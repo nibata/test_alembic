{
 "cells": [
  {
   "cell_type": "code",
   "execution_count": 1,
   "id": "c0c90311",
   "metadata": {},
   "outputs": [],
   "source": [
    "from models import TestModel\n",
    "from sqlalchemy.orm import sessionmaker\n",
    "from sqlalchemy import create_engine"
   ]
  },
  {
   "cell_type": "code",
   "execution_count": 2,
   "id": "52c441ad",
   "metadata": {},
   "outputs": [],
   "source": [
    "test_insert = [\n",
    "    TestModel(name=\"TEST_NAME_1\"),\n",
    "    TestModel(name=\"TEST_NAME_2\")\n",
    "    \n",
    "]"
   ]
  },
  {
   "cell_type": "code",
   "execution_count": 3,
   "id": "6d19b08c",
   "metadata": {},
   "outputs": [],
   "source": [
    "session_maker = sessionmaker(bind=create_engine(\"sqlite:///models.db\"))"
   ]
  },
  {
   "cell_type": "code",
   "execution_count": 4,
   "id": "2fea15b0",
   "metadata": {},
   "outputs": [],
   "source": [
    "def insert_test_data():\n",
    "    with session_maker() as session:\n",
    "        for data in test_insert:\n",
    "            session.add(data)\n",
    "        session.commit()"
   ]
  },
  {
   "cell_type": "code",
   "execution_count": 5,
   "id": "919dbf6e",
   "metadata": {},
   "outputs": [],
   "source": [
    "insert_test_data()"
   ]
  },
  {
   "cell_type": "code",
   "execution_count": 6,
   "id": "0f89745d",
   "metadata": {},
   "outputs": [
    {
     "name": "stdout",
     "output_type": "stream",
     "text": [
      "TestModel(id: 1, name: TEST_NAME_1, created: 2022-08-06 22:13:59.187489, new_column: 0.0)\n",
      "TestModel(id: 2, name: TEST_NAME_2, created: 2022-08-06 22:13:59.193482, new_column: 0.0)\n"
     ]
    }
   ],
   "source": [
    "with session_maker() as session:\n",
    "    records = session.query(TestModel).all()\n",
    "    for record in records:\n",
    "        print(record)"
   ]
  },
  {
   "cell_type": "code",
   "execution_count": null,
   "id": "30bddd6d",
   "metadata": {},
   "outputs": [],
   "source": []
  }
 ],
 "metadata": {
  "kernelspec": {
   "display_name": "Python 3 (ipykernel)",
   "language": "python",
   "name": "python3"
  },
  "language_info": {
   "codemirror_mode": {
    "name": "ipython",
    "version": 3
   },
   "file_extension": ".py",
   "mimetype": "text/x-python",
   "name": "python",
   "nbconvert_exporter": "python",
   "pygments_lexer": "ipython3",
   "version": "3.7.0"
  }
 },
 "nbformat": 4,
 "nbformat_minor": 5
}
