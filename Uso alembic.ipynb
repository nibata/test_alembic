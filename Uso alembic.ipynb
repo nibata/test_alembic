{
 "cells": [
  {
   "cell_type": "markdown",
   "id": "14ae90fc",
   "metadata": {},
   "source": [
    "## Inicia alembic\n",
    "Crea carpeta **migrations** y **alembic.ini**\n",
    "\n",
    "Para que funcione hay que modificar `alembic.ini` para que tenga el string de conexión a la base de datos. (lineal 58 aproximádamente)\n",
    "\n",
    "Además hay que modificar `migrations/envs.py` para que busque la vaible `Base` de sqlalchemy. (en este caso, lineas 19 y 20)\n",
    "\n",
    "*obs:* la celda fallará si ya se corrio anteriormente pero a pesar de que diga FAILED, no geneara problema el ejecutarlo más de una vez"
   ]
  },
  {
   "cell_type": "code",
   "execution_count": 1,
   "id": "0cc2f1a4",
   "metadata": {},
   "outputs": [
    {
     "name": "stdout",
     "output_type": "stream",
     "text": [
      "FAILED: Directory migrations already exists and is not empty\n"
     ]
    }
   ],
   "source": [
    "!alembic init migrations"
   ]
  },
  {
   "cell_type": "markdown",
   "id": "a963749c",
   "metadata": {},
   "source": [
    "## Creación de archivos de migración"
   ]
  },
  {
   "cell_type": "code",
   "execution_count": 13,
   "id": "9bcdab0d",
   "metadata": {
    "scrolled": true
   },
   "outputs": [
    {
     "name": "stdout",
     "output_type": "stream",
     "text": [
      "Generating D:\\Users\\nbacquet\\Desktop\\test-alembic\\migrations\\versions\\ff42f2583818_drop_new_column_not_null_in_testmodel_.py ...  done"
     ]
    },
    {
     "name": "stderr",
     "output_type": "stream",
     "text": [
      "INFO  [alembic.runtime.migration] Context impl SQLiteImpl.\n",
      "INFO  [alembic.runtime.migration] Will assume non-transactional DDL.\n",
      "INFO  [alembic.autogenerate.compare] Detected removed column 'Test.new_column_not_null'\n"
     ]
    },
    {
     "name": "stdout",
     "output_type": "stream",
     "text": [
      "\n"
     ]
    }
   ],
   "source": [
    "!alembic revision --autogenerate -m \"Drop new_column_not_null in TestModel tabla Test\""
   ]
  },
  {
   "cell_type": "markdown",
   "id": "047c30ab",
   "metadata": {},
   "source": [
    "## Aplica cambios generados en paso anterior a la base de datos"
   ]
  },
  {
   "cell_type": "code",
   "execution_count": 1,
   "id": "84d167e1",
   "metadata": {
    "scrolled": false
   },
   "outputs": [
    {
     "name": "stderr",
     "output_type": "stream",
     "text": [
      "INFO  [alembic.runtime.migration] Context impl SQLiteImpl.\n",
      "INFO  [alembic.runtime.migration] Will assume non-transactional DDL.\n",
      "INFO  [alembic.runtime.migration] Running upgrade  -> a5a8f53ac0dc, Crea TestModel tabla Test\n",
      "INFO  [alembic.runtime.migration] Running upgrade a5a8f53ac0dc -> dfd96e01c0e2, Crea new_column in TestModel tabla Test\n"
     ]
    }
   ],
   "source": [
    "!alembic upgrade heads"
   ]
  },
  {
   "cell_type": "code",
   "execution_count": null,
   "id": "de324de5",
   "metadata": {},
   "outputs": [],
   "source": []
  }
 ],
 "metadata": {
  "kernelspec": {
   "display_name": "Python 3 (ipykernel)",
   "language": "python",
   "name": "python3"
  },
  "language_info": {
   "codemirror_mode": {
    "name": "ipython",
    "version": 3
   },
   "file_extension": ".py",
   "mimetype": "text/x-python",
   "name": "python",
   "nbconvert_exporter": "python",
   "pygments_lexer": "ipython3",
   "version": "3.7.0"
  }
 },
 "nbformat": 4,
 "nbformat_minor": 5
}
